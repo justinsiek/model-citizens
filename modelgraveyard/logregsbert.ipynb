{
 "cells": [
  {
   "cell_type": "code",
   "execution_count": 1,
   "metadata": {},
   "outputs": [],
   "source": [
    "import pandas as pd"
   ]
  },
  {
   "cell_type": "code",
   "execution_count": 2,
   "metadata": {},
   "outputs": [],
   "source": [
    "df = pd.read_csv(\"train.csv\")[:1000]"
   ]
  },
  {
   "cell_type": "code",
   "execution_count": 3,
   "metadata": {},
   "outputs": [
    {
     "data": {
      "text/html": [
       "<div>\n",
       "<style scoped>\n",
       "    .dataframe tbody tr th:only-of-type {\n",
       "        vertical-align: middle;\n",
       "    }\n",
       "\n",
       "    .dataframe tbody tr th {\n",
       "        vertical-align: top;\n",
       "    }\n",
       "\n",
       "    .dataframe thead th {\n",
       "        text-align: right;\n",
       "    }\n",
       "</style>\n",
       "<table border=\"1\" class=\"dataframe\">\n",
       "  <thead>\n",
       "    <tr style=\"text-align: right;\">\n",
       "      <th></th>\n",
       "      <th>id</th>\n",
       "      <th>model_a</th>\n",
       "      <th>model_b</th>\n",
       "      <th>prompt</th>\n",
       "      <th>response_a</th>\n",
       "      <th>response_b</th>\n",
       "      <th>winner_model_a</th>\n",
       "      <th>winner_model_b</th>\n",
       "      <th>winner_tie</th>\n",
       "    </tr>\n",
       "  </thead>\n",
       "  <tbody>\n",
       "    <tr>\n",
       "      <th>0</th>\n",
       "      <td>30192</td>\n",
       "      <td>gpt-4-1106-preview</td>\n",
       "      <td>gpt-4-0613</td>\n",
       "      <td>Is it morally right to try to have a certain p...</td>\n",
       "      <td>The question of whether it is morally right to...</td>\n",
       "      <td>As an AI, I don't have personal beliefs or opi...</td>\n",
       "      <td>1</td>\n",
       "      <td>0</td>\n",
       "      <td>0</td>\n",
       "    </tr>\n",
       "    <tr>\n",
       "      <th>1</th>\n",
       "      <td>30192</td>\n",
       "      <td>gpt-4-1106-preview</td>\n",
       "      <td>gpt-4-0613</td>\n",
       "      <td>OK, does pineapple belong on a pizza? Relax an...</td>\n",
       "      <td>Ah, the age-old culinary conundrum that has di...</td>\n",
       "      <td>As an AI, I don't eat, so I don't have persona...</td>\n",
       "      <td>1</td>\n",
       "      <td>0</td>\n",
       "      <td>0</td>\n",
       "    </tr>\n",
       "    <tr>\n",
       "      <th>2</th>\n",
       "      <td>53567</td>\n",
       "      <td>koala-13b</td>\n",
       "      <td>gpt-4-0613</td>\n",
       "      <td>What is the difference between marriage licens...</td>\n",
       "      <td>A marriage license is a legal document that al...</td>\n",
       "      <td>A marriage license and a marriage certificate ...</td>\n",
       "      <td>0</td>\n",
       "      <td>1</td>\n",
       "      <td>0</td>\n",
       "    </tr>\n",
       "    <tr>\n",
       "      <th>3</th>\n",
       "      <td>53567</td>\n",
       "      <td>koala-13b</td>\n",
       "      <td>gpt-4-0613</td>\n",
       "      <td>How can I get both of them as quick as possibl...</td>\n",
       "      <td>If you want to get both a marriage license and...</td>\n",
       "      <td>In California, here are the general steps to o...</td>\n",
       "      <td>0</td>\n",
       "      <td>1</td>\n",
       "      <td>0</td>\n",
       "    </tr>\n",
       "    <tr>\n",
       "      <th>4</th>\n",
       "      <td>53567</td>\n",
       "      <td>koala-13b</td>\n",
       "      <td>gpt-4-0613</td>\n",
       "      <td>What is the minimal time to get them? 1 day or...</td>\n",
       "      <td>The minimal time to get a marriage license and...</td>\n",
       "      <td>The marriage license in California is issued i...</td>\n",
       "      <td>0</td>\n",
       "      <td>1</td>\n",
       "      <td>0</td>\n",
       "    </tr>\n",
       "  </tbody>\n",
       "</table>\n",
       "</div>"
      ],
      "text/plain": [
       "      id             model_a     model_b  \\\n",
       "0  30192  gpt-4-1106-preview  gpt-4-0613   \n",
       "1  30192  gpt-4-1106-preview  gpt-4-0613   \n",
       "2  53567           koala-13b  gpt-4-0613   \n",
       "3  53567           koala-13b  gpt-4-0613   \n",
       "4  53567           koala-13b  gpt-4-0613   \n",
       "\n",
       "                                              prompt  \\\n",
       "0  Is it morally right to try to have a certain p...   \n",
       "1  OK, does pineapple belong on a pizza? Relax an...   \n",
       "2  What is the difference between marriage licens...   \n",
       "3  How can I get both of them as quick as possibl...   \n",
       "4  What is the minimal time to get them? 1 day or...   \n",
       "\n",
       "                                          response_a  \\\n",
       "0  The question of whether it is morally right to...   \n",
       "1  Ah, the age-old culinary conundrum that has di...   \n",
       "2  A marriage license is a legal document that al...   \n",
       "3  If you want to get both a marriage license and...   \n",
       "4  The minimal time to get a marriage license and...   \n",
       "\n",
       "                                          response_b  winner_model_a  \\\n",
       "0  As an AI, I don't have personal beliefs or opi...               1   \n",
       "1  As an AI, I don't eat, so I don't have persona...               1   \n",
       "2  A marriage license and a marriage certificate ...               0   \n",
       "3  In California, here are the general steps to o...               0   \n",
       "4  The marriage license in California is issued i...               0   \n",
       "\n",
       "   winner_model_b  winner_tie  \n",
       "0               0           0  \n",
       "1               0           0  \n",
       "2               1           0  \n",
       "3               1           0  \n",
       "4               1           0  "
      ]
     },
     "execution_count": 3,
     "metadata": {},
     "output_type": "execute_result"
    }
   ],
   "source": [
    "import ast\n",
    "import json\n",
    "\n",
    "# Function to safely parse the string as a list\n",
    "def parse_list_string(s):\n",
    "    try:\n",
    "        # First try to parse as JSON\n",
    "        return json.loads(s)\n",
    "    except:\n",
    "        try:\n",
    "            # Then try to parse as Python literal\n",
    "            return ast.literal_eval(s)\n",
    "        except:\n",
    "            # If all fails, return as is\n",
    "            return [s]\n",
    "\n",
    "# Create a new dataframe to store the expanded data\n",
    "expanded_rows = []\n",
    "\n",
    "for _, row in df.iterrows():\n",
    "    # Parse the prompts and responses\n",
    "    prompts = parse_list_string(row['prompt'])\n",
    "    responses_a = parse_list_string(row['response_a'])\n",
    "    responses_b = parse_list_string(row['response_b'])\n",
    "    \n",
    "    # Make sure all lists have the same length\n",
    "    max_len = max(len(prompts), len(responses_a), len(responses_b))\n",
    "    prompts = prompts + [''] * (max_len - len(prompts))\n",
    "    responses_a = responses_a + [''] * (max_len - len(responses_a))\n",
    "    responses_b = responses_b + [''] * (max_len - len(responses_b))\n",
    "    \n",
    "    # Create a new row for each prompt-response pair\n",
    "    for i in range(max_len):\n",
    "        expanded_rows.append({\n",
    "            'id': row['id'],\n",
    "            'model_a': row['model_a'],\n",
    "            'model_b': row['model_b'],\n",
    "            'prompt': prompts[i],\n",
    "            'response_a': responses_a[i],\n",
    "            'response_b': responses_b[i],\n",
    "            'winner_model_a': row['winner_model_a'],\n",
    "            'winner_model_b': row['winner_model_b'],\n",
    "            'winner_tie': row['winner_tie']\n",
    "        })\n",
    "\n",
    "# Create the expanded dataframe\n",
    "expanded_df = pd.DataFrame(expanded_rows)\n",
    "\n",
    "# Display the first few rows of the expanded dataframe\n",
    "expanded_df.head()"
   ]
  },
  {
   "cell_type": "code",
   "execution_count": 4,
   "metadata": {},
   "outputs": [
    {
     "name": "stdout",
     "output_type": "stream",
     "text": [
      "Original shape: (1245, 9)\n",
      "After removing ties: (895, 9)\n",
      "winner_model_a  winner_model_b\n",
      "0               1                 456\n",
      "1               0                 439\n",
      "Name: count, dtype: int64\n"
     ]
    }
   ],
   "source": [
    "filtered_df = expanded_df[expanded_df['winner_tie'] == 0]\n",
    "print(f\"Original shape: {expanded_df.shape}\")\n",
    "print(f\"After removing ties: {filtered_df.shape}\")\n",
    "print(filtered_df[['winner_model_a', 'winner_model_b']].value_counts())"
   ]
  },
  {
   "cell_type": "code",
   "execution_count": 5,
   "metadata": {},
   "outputs": [],
   "source": [
    "from sklearn.linear_model import LogisticRegression\n",
    "from sklearn.model_selection import train_test_split\n",
    "from sklearn.metrics import accuracy_score, classification_report, confusion_matrix\n",
    "from sklearn.feature_extraction.text import CountVectorizer, TfidfVectorizer\n",
    "import numpy as np\n",
    "import matplotlib.pyplot as plt\n",
    "import seaborn as sns"
   ]
  },
  {
   "cell_type": "code",
   "execution_count": 12,
   "metadata": {},
   "outputs": [
    {
     "name": "stdout",
     "output_type": "stream",
     "text": [
      "NaN values in prompt: 0\n",
      "NaN values in response_a: 2\n",
      "NaN values in response_b: 1\n"
     ]
    },
    {
     "name": "stderr",
     "output_type": "stream",
     "text": [
      "C:\\Users\\justi\\AppData\\Local\\Temp\\ipykernel_26528\\883600175.py:15: SettingWithCopyWarning: \n",
      "A value is trying to be set on a copy of a slice from a DataFrame.\n",
      "Try using .loc[row_indexer,col_indexer] = value instead\n",
      "\n",
      "See the caveats in the documentation: https://pandas.pydata.org/pandas-docs/stable/user_guide/indexing.html#returning-a-view-versus-a-copy\n",
      "  filtered_df['prompt_resp_a'] = filtered_df['prompt'].fillna('').astype(str) + \" \" + filtered_df['response_a'].fillna('').astype(str)\n",
      "C:\\Users\\justi\\AppData\\Local\\Temp\\ipykernel_26528\\883600175.py:16: SettingWithCopyWarning: \n",
      "A value is trying to be set on a copy of a slice from a DataFrame.\n",
      "Try using .loc[row_indexer,col_indexer] = value instead\n",
      "\n",
      "See the caveats in the documentation: https://pandas.pydata.org/pandas-docs/stable/user_guide/indexing.html#returning-a-view-versus-a-copy\n",
      "  filtered_df['prompt_resp_b'] = filtered_df['prompt'].fillna('').astype(str) + \" \" + filtered_df['response_b'].fillna('').astype(str)\n"
     ]
    },
    {
     "data": {
      "application/vnd.jupyter.widget-view+json": {
       "model_id": "5d68a77457f94a088df45ff88f33d489",
       "version_major": 2,
       "version_minor": 0
      },
      "text/plain": [
       "Batches:   0%|          | 0/28 [00:00<?, ?it/s]"
      ]
     },
     "metadata": {},
     "output_type": "display_data"
    },
    {
     "data": {
      "application/vnd.jupyter.widget-view+json": {
       "model_id": "2556dd08793f49429bc31df2181b3cec",
       "version_major": 2,
       "version_minor": 0
      },
      "text/plain": [
       "Batches:   0%|          | 0/28 [00:00<?, ?it/s]"
      ]
     },
     "metadata": {},
     "output_type": "display_data"
    },
    {
     "name": "stdout",
     "output_type": "stream",
     "text": [
      "Feature matrix shape: (895, 1152)\n"
     ]
    }
   ],
   "source": [
    "# Step 1: Install sentence-transformers if needed\n",
    "# !pip install sentence-transformers\n",
    "\n",
    "# Step 2: Import and load the SBERT model\n",
    "from sentence_transformers import SentenceTransformer\n",
    "model = SentenceTransformer('all-MiniLM-L6-v2')  # Lightweight model, good balance of speed/performance\n",
    "\n",
    "# Step 3: Prepare text pairs\n",
    "# Check for NaN values\n",
    "print(\"NaN values in prompt:\", filtered_df['prompt'].isna().sum())\n",
    "print(\"NaN values in response_a:\", filtered_df['response_a'].isna().sum())\n",
    "print(\"NaN values in response_b:\", filtered_df['response_b'].isna().sum())\n",
    "\n",
    "# Convert all to strings and handle NaN values\n",
    "filtered_df['prompt_resp_a'] = filtered_df['prompt'].fillna('').astype(str) + \" \" + filtered_df['response_a'].fillna('').astype(str)\n",
    "filtered_df['prompt_resp_b'] = filtered_df['prompt'].fillna('').astype(str) + \" \" + filtered_df['response_b'].fillna('').astype(str)\n",
    "\n",
    "# Now encode\n",
    "embeddings_a = model.encode(filtered_df['prompt_resp_a'].tolist(), show_progress_bar=True)\n",
    "embeddings_b = model.encode(filtered_df['prompt_resp_b'].tolist(), show_progress_bar=True)\n",
    "\n",
    "# Step 5: Create feature vectors (multiple approaches)\n",
    "# Approach 1: Concatenate embeddings\n",
    "X_concat = np.hstack([embeddings_a, embeddings_b])\n",
    "\n",
    "# Approach 2: Calculate the difference between embeddings\n",
    "X_diff = embeddings_a - embeddings_b\n",
    "\n",
    "# Choose which approach to use\n",
    "X_combined = np.hstack([X_concat, X_diff])\n",
    "y = filtered_df['winner_model_a']\n",
    "\n",
    "print(f\"Feature matrix shape: {X_combined.shape}\")"
   ]
  },
  {
   "cell_type": "code",
   "execution_count": 7,
   "metadata": {},
   "outputs": [
    {
     "name": "stdout",
     "output_type": "stream",
     "text": [
      "Training data shape: (626, 384)\n",
      "Testing data shape: (269, 384)\n"
     ]
    }
   ],
   "source": [
    "# Step 3: Split the data into training and testing sets\n",
    "X_train, X_test, y_train, y_test = train_test_split(X_combined, y, test_size=0.3, random_state=42)\n",
    "\n",
    "print(f\"Training data shape: {X_train.shape}\")\n",
    "print(f\"Testing data shape: {X_test.shape}\")"
   ]
  },
  {
   "cell_type": "code",
   "execution_count": 14,
   "metadata": {},
   "outputs": [
    {
     "name": "stdout",
     "output_type": "stream",
     "text": [
      "Model training complete\n"
     ]
    }
   ],
   "source": [
    "# Step 4: Create and train the Logistic Regression model (replacing Random Forest)\n",
    "# Initialize the model\n",
    "# C parameter controls regularization strength (smaller values = stronger regularization)\n",
    "# max_iter increases the maximum number of iterations for convergence\n",
    "log_reg_model = LogisticRegression(C=1.0, max_iter=1000, random_state=42, solver='liblinear')\n",
    "\n",
    "# Train the model\n",
    "log_reg_model.fit(X_train, y_train)\n",
    "\n",
    "print(\"Model training complete\")"
   ]
  },
  {
   "cell_type": "code",
   "execution_count": 15,
   "metadata": {},
   "outputs": [
    {
     "name": "stdout",
     "output_type": "stream",
     "text": [
      "Accuracy: 0.4684\n",
      "\n",
      "Classification Report:\n",
      "              precision    recall  f1-score   support\n",
      "\n",
      "           0       0.49      0.57      0.52       139\n",
      "           1       0.44      0.36      0.40       130\n",
      "\n",
      "    accuracy                           0.47       269\n",
      "   macro avg       0.46      0.46      0.46       269\n",
      "weighted avg       0.46      0.47      0.46       269\n",
      "\n"
     ]
    },
    {
     "data": {
      "image/png": "[encoded data removed]",
      "text/plain": [
       "<Figure size 800x600 with 2 Axes>"
      ]
     },
     "metadata": {},
     "output_type": "display_data"
    }
   ],
   "source": [
    "# Step 5: Make predictions and evaluate the model\n",
    "# Predict on test data\n",
    "y_pred = log_reg_model.predict(X_test)\n",
    "\n",
    "# Calculate accuracy\n",
    "accuracy = accuracy_score(y_test, y_pred)\n",
    "print(f\"Accuracy: {accuracy:.4f}\")\n",
    "\n",
    "# Classification report\n",
    "print(\"\\nClassification Report:\")\n",
    "print(classification_report(y_test, y_pred))\n",
    "\n",
    "# Confusion matrix\n",
    "conf_matrix = confusion_matrix(y_test, y_pred)\n",
    "plt.figure(figsize=(8, 6))\n",
    "sns.heatmap(conf_matrix, annot=True, fmt='d', cmap='Blues',\n",
    "            xticklabels=['Model B Wins', 'Model A Wins'],\n",
    "            yticklabels=['Model B Wins', 'Model A Wins'])\n",
    "plt.xlabel('Predicted')\n",
    "plt.ylabel('Actual')\n",
    "plt.title('Confusion Matrix')\n",
    "plt.tight_layout()\n",
    "plt.show()"
   ]
  }
 ],
 "metadata": {
  "kernelspec": {
   "display_name": "Python 3",
   "language": "python",
   "name": "python3"
  },
  "language_info": {
   "codemirror_mode": {
    "name": "ipython",
    "version": 3
   },
   "file_extension": ".py",
   "mimetype": "text/x-python",
   "name": "python",
   "nbconvert_exporter": "python",
   "pygments_lexer": "ipython3",
   "version": "3.12.10"
  }
 },
 "nbformat": 4,
 "nbformat_minor": 2
}
